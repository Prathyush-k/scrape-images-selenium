{
 "cells": [
  {
   "cell_type": "code",
   "execution_count": 1,
   "metadata": {},
   "outputs": [],
   "source": [
    "# Selenium is a framework which is used in the testing of web applications.\n",
    "# It lets the user navigate through the web application entering inputs, clicking the necessary elemnts.\n",
    "\n",
    "from selenium import webdriver\n",
    "from selenium.webdriver.common.keys import Keys\n",
    "\n",
    "import urllib #We use this to download the images using urlretrive function in requests\n",
    "import time  #sleep funtion is used to wait "
   ]
  },
  {
   "cell_type": "code",
   "execution_count": 2,
   "metadata": {},
   "outputs": [],
   "source": [
    "my_url=\"https://www.google.com/\""
   ]
  },
  {
   "cell_type": "code",
   "execution_count": 3,
   "metadata": {},
   "outputs": [],
   "source": [
    "#the method below helps the user scrape images from google images in which ever image format (.jpg,.png,etc.) they desire.\n",
    "#the user can give the keyword and select the number of images they would like to scrape\n",
    "#This function navigates through the web browser to select the necessary elements in the page"
   ]
  },
  {
   "cell_type": "code",
   "execution_count": 4,
   "metadata": {},
   "outputs": [],
   "source": [
    "def scrape_images(url, key_word, number_of_images, file_format, high_quality=True):\n",
    "    \n",
    "    driver = webdriver.Chrome() #Chrome browser is used as webdriver\n",
    "    driver.get(url) #url is loaded\n",
    "    element = driver.find_element_by_name('q') #input bar is selected\n",
    "    element.send_keys(key_word) #input is entered\n",
    "    time.sleep(1)\n",
    "    element.send_keys(Keys.RETURN) #enter button is clicked to search\n",
    "    time.sleep(1)\n",
    "    \n",
    "    element = driver.find_element_by_xpath('//*[@id=\"hdtb-msb-vis\"]/div[3]/a') #images is selected from google\n",
    "    element.click()\n",
    "    time.sleep(2)\n",
    "    \n",
    "    results = driver.find_element_by_id(\"res\") #results section is selected\n",
    "    images = results.find_elements_by_tag_name('img') # all the images are selected\n",
    "    try: \n",
    "        count =1\n",
    "        img=0\n",
    "        while(count <= number_of_images):\n",
    "            image= images[img]\n",
    "            while(image.get_attribute('src')== None):\n",
    "                img +=1\n",
    "                image= images[img]\n",
    "            if high_quality: #to scrape high quality images we have to open them\n",
    "\n",
    "                image.click()\n",
    "                time.sleep(2)\n",
    "                new_images = results.find_elements_by_tag_name('img') \n",
    "                new_image = [x for x in new_images if x not in images] #fining the high quality images\n",
    "                download = new_image[0]\n",
    "                file_name = str(count) +'.'+file_format # setting file name\n",
    "            else:\n",
    "                download = image\n",
    "                file_name = str(count) +'_lowres.'+file_format # setting file name for low res\n",
    "            urllib.request.urlretrieve(download.get_attribute('src'),file_name)  # downloading the images\n",
    "            count +=1\n",
    "            img +=1\n",
    "        \n",
    "    except:\n",
    "        print(\"error\")\n",
    "    driver.implicitly_wait(10)\n",
    "    driver.quit() #close browser after completion of scraping"
   ]
  },
  {
   "cell_type": "code",
   "execution_count": 5,
   "metadata": {
    "scrolled": true
   },
   "outputs": [],
   "source": [
    "scrape_images(my_url, \"Eiffel Tower\", number_of_images=2, file_format='jpg', high_quality=False)"
   ]
  },
  {
   "cell_type": "code",
   "execution_count": null,
   "metadata": {},
   "outputs": [],
   "source": []
  }
 ],
 "metadata": {
  "kernelspec": {
   "display_name": "Python 3",
   "language": "python",
   "name": "python3"
  },
  "language_info": {
   "codemirror_mode": {
    "name": "ipython",
    "version": 3
   },
   "file_extension": ".py",
   "mimetype": "text/x-python",
   "name": "python",
   "nbconvert_exporter": "python",
   "pygments_lexer": "ipython3",
   "version": "3.6.8"
  }
 },
 "nbformat": 4,
 "nbformat_minor": 2
}
